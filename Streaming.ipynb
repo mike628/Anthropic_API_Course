{
 "cells": [
  {
   "cell_type": "code",
   "id": "initial_id",
   "metadata": {
    "collapsed": true,
    "ExecuteTime": {
     "end_time": "2025-09-16T16:24:06.760989Z",
     "start_time": "2025-09-16T16:24:03.765843Z"
    }
   },
   "source": [
    "from dotenv import load_dotenv\n",
    "load_dotenv()\n",
    "from anthropic import Anthropic\n",
    "client = Anthropic()\n",
    "model=\"claude-sonnet-4-0\"\n",
    "def add_user_message(messages,text):\n",
    "    user_message = {\"role\":\"user\", \"content\": text}\n",
    "    messages.append(user_message)\n",
    "\n",
    "def add_assistant_message(messages, text):\n",
    "    assistant_message = {\"role\": \"assistant\", \"content\": text}\n",
    "    messages.append(assistant_message)\n",
    "\n",
    "def chat(messages):\n",
    "    message =client.messages.create(\n",
    "    model=model,\n",
    "    max_tokens=1000,\n",
    "    messages=messages\n",
    "    )\n",
    "    return message.content[0].text\n",
    "messages= []\n",
    "add_user_message(messages,\"Write a 1 sentence description of a fake database\")\n",
    "# stream = client.messages.create(\n",
    "#     model=model,\n",
    "#     max_tokens=1000,\n",
    "#     messages=messages,\n",
    "#     stream= True\n",
    "# )\n",
    "# for event in stream:\n",
    "#     print(event)\n",
    "with client.messages.stream(\n",
    "    model=model,\n",
    "    max_tokens=1000,\n",
    "    messages=messages,\n",
    ") as stream:\n",
    "    for text in stream.text_stream:\n",
    "        #print(text, end=\"\")\n",
    "        pass\n",
    "    stream.get_final_message()"
   ],
   "outputs": [
    {
     "name": "stdout",
     "output_type": "stream",
     "text": [
      "The \"GlobalMind Database\" is a fictional repository containing the complete psychological profiles, emotional states, and decision-making patterns of every person on Earth, updated in real-time through advanced neural monitoring technology."
     ]
    }
   ],
   "execution_count": 2
  }
 ],
 "metadata": {
  "kernelspec": {
   "display_name": "Python 3",
   "language": "python",
   "name": "python3"
  },
  "language_info": {
   "codemirror_mode": {
    "name": "ipython",
    "version": 2
   },
   "file_extension": ".py",
   "mimetype": "text/x-python",
   "name": "python",
   "nbconvert_exporter": "python",
   "pygments_lexer": "ipython2",
   "version": "2.7.6"
  }
 },
 "nbformat": 4,
 "nbformat_minor": 5
}
