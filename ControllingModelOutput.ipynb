{
 "cells": [
  {
   "cell_type": "code",
   "id": "initial_id",
   "metadata": {
    "collapsed": true,
    "ExecuteTime": {
     "end_time": "2025-09-16T16:40:15.645922Z",
     "start_time": "2025-09-16T16:40:13.503972Z"
    }
   },
   "source": [
    "from dotenv import load_dotenv\n",
    "load_dotenv()\n",
    "from anthropic import Anthropic\n",
    "client = Anthropic()\n",
    "model=\"claude-sonnet-4-0\"\n",
    "def add_user_message(messages,text):\n",
    "    user_message = {\"role\":\"user\", \"content\": text}\n",
    "    messages.append(user_message)\n",
    "\n",
    "def add_assistant_message(messages, text):\n",
    "    assistant_message = {\"role\": \"assistant\", \"content\": text}\n",
    "    messages.append(assistant_message)\n",
    "\n",
    "\n",
    "messages = []\n",
    "\n",
    "# Messages Profiling\n",
    "# def chat(messages):\n",
    "#     message =client.messages.create(\n",
    "#     model=model,\n",
    "#     max_tokens=1000,\n",
    "#     messages=messages,\n",
    "#     stop_sequences\n",
    "#     )\n",
    "#     return message.content[0].text\n",
    "#     add_user_message(messages,\"Is tea or Coffee better at Breakfast ?\")\n",
    "#     add_assistant_message(messages,\"Coffee is better because\")\n",
    "#     answer = chat(messages)\n",
    "#     answer\n",
    "# Stop Sequences\n",
    "def chat(messages,stop_sequences=[]):\n",
    "    message =client.messages.create(\n",
    "    model=model,\n",
    "    max_tokens=1000,\n",
    "    messages=messages,\n",
    "    stop_sequences= stop_sequences\n",
    "    )\n",
    "    return message.content[0].text\n",
    "add_user_message(messages,\"Count from 1 to 10\")\n",
    "answer = chat(messages, stop_sequences= [\"5\"])\n",
    "answer\n"
   ],
   "outputs": [
    {
     "data": {
      "text/plain": [
       "'1, 2, 3, 4, '"
      ]
     },
     "execution_count": 4,
     "metadata": {},
     "output_type": "execute_result"
    }
   ],
   "execution_count": 4
  }
 ],
 "metadata": {
  "kernelspec": {
   "display_name": "Python 3",
   "language": "python",
   "name": "python3"
  },
  "language_info": {
   "codemirror_mode": {
    "name": "ipython",
    "version": 2
   },
   "file_extension": ".py",
   "mimetype": "text/x-python",
   "name": "python",
   "nbconvert_exporter": "python",
   "pygments_lexer": "ipython2",
   "version": "2.7.6"
  }
 },
 "nbformat": 4,
 "nbformat_minor": 5
}
