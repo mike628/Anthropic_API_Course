{
 "cells": [
  {
   "cell_type": "code",
   "id": "initial_id",
   "metadata": {
    "collapsed": true,
    "ExecuteTime": {
     "end_time": "2025-09-19T21:17:23.043687Z",
     "start_time": "2025-09-19T21:17:18.364584Z"
    }
   },
   "source": [
    "from dotenv import load_dotenv\n",
    "load_dotenv()\n",
    "from anthropic import Anthropic\n",
    "client = Anthropic()\n",
    "model=\"claude-sonnet-4-0\"\n",
    "\n",
    "\n",
    "def add_user_message(messages,text):\n",
    "    user_message = {\"role\":\"user\", \"content\": text}\n",
    "    messages.append(user_message)\n",
    "\n",
    "def add_assistant_message(messages, text):\n",
    "    assistant_message = {\"role\": \"assistant\", \"content\": text}\n",
    "    messages.append(assistant_message)\n",
    "\n",
    "def chat(messages,stop_sequences=[]):\n",
    "    message =client.messages.create(\n",
    "    model=model,\n",
    "    max_tokens=1000,\n",
    "    messages=messages\n",
    "    )\n",
    "    return message.content[0].text\n",
    "messages=[]\n",
    "prompt=\"\"\"Generate three different sample AWS CLI commands. Each should be very short.\"\"\"\n",
    "add_user_message(messages,prompt)\n",
    "add_assistant_message(messages,\"```bash\")\n",
    "text = chat(messages,stop_sequences=[\"```\"])\n",
    "text.strip()\n",
    "from IPython.display import Markdown\n",
    "Markdown(text)\n"
   ],
   "outputs": [
    {
     "data": {
      "text/plain": [
       "<IPython.core.display.Markdown object>"
      ],
      "text/markdown": "\naws s3 ls\n\naws ec2 describe-instances\n\naws lambda list-functions\n```"
     },
     "execution_count": 7,
     "metadata": {},
     "output_type": "execute_result"
    }
   ],
   "execution_count": 7
  }
 ],
 "metadata": {
  "kernelspec": {
   "display_name": "Python 3",
   "language": "python",
   "name": "python3"
  },
  "language_info": {
   "codemirror_mode": {
    "name": "ipython",
    "version": 2
   },
   "file_extension": ".py",
   "mimetype": "text/x-python",
   "name": "python",
   "nbconvert_exporter": "python",
   "pygments_lexer": "ipython2",
   "version": "2.7.6"
  }
 },
 "nbformat": 4,
 "nbformat_minor": 5
}
