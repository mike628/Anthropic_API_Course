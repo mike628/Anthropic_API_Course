{
 "cells": [
  {
   "cell_type": "code",
   "execution_count": null,
   "id": "initial_id",
   "metadata": {
    "collapsed": true
   },
   "outputs": [],
   "source": [
    ""
   ]
  },
  {
   "metadata": {
    "ExecuteTime": {
     "end_time": "2025-09-16T15:42:19.643108Z",
     "start_time": "2025-09-16T15:42:12.641714Z"
    }
   },
   "cell_type": "code",
   "source": [
    "system=\"\"\"Please do this as concisely as possible.\"\"\"\n",
    "from dotenv import load_dotenv\n",
    "load_dotenv()\n",
    "from anthropic import Anthropic\n",
    "client = Anthropic()\n",
    "model=\"claude-sonnet-4-0\"\n",
    "def add_user_message(messages, text):\n",
    "    user_message = {\"role\": \"user\", \"content\": text}\n",
    "    messages.append(user_message)\n",
    "\n",
    "\n",
    "def add_assistant_message(messages, text):\n",
    "    assistant_message = {\"role\": \"assistant\", \"content\": text}\n",
    "    messages.append(assistant_message)\n",
    "\n",
    "messages = []\n",
    "def chat(messages,system=None):\n",
    "    params={\n",
    "        \"model\":model,\n",
    "       \"max_tokens\":1000,\n",
    "        \"messages\":messages,\n",
    "    }\n",
    "    if system:\n",
    "        params['system'] = system\n",
    "    message = client.messages.create(**params)\n",
    "    return message.content[0].text\n",
    "\n",
    "add_user_message(messages,\"Write a Python function that checks a string for duplicate characters.\")\n",
    "answer = chat(messages,system=system)\n",
    "answer"
   ],
   "id": "379e50f54b3f6fec",
   "outputs": [
    {
     "data": {
      "text/plain": [
       "'Here\\'s a concise Python function to check for duplicate characters:\\n\\n```python\\ndef has_duplicates(s):\\n    return len(s) != len(set(s))\\n```\\n\\n**Usage examples:**\\n```python\\nprint(has_duplicates(\"hello\"))    # True (duplicate \\'l\\')\\nprint(has_duplicates(\"world\"))    # False (no duplicates)\\nprint(has_duplicates(\"\"))         # False (empty string)\\n```\\n\\n**How it works:** Converts the string to a set (which removes duplicates), then compares the lengths. If they differ, duplicates existed in the original string.'"
      ]
     },
     "execution_count": 1,
     "metadata": {},
     "output_type": "execute_result"
    }
   ],
   "execution_count": 1
  }
 ],
 "metadata": {
  "kernelspec": {
   "display_name": "Python 3",
   "language": "python",
   "name": "python3"
  },
  "language_info": {
   "codemirror_mode": {
    "name": "ipython",
    "version": 2
   },
   "file_extension": ".py",
   "mimetype": "text/x-python",
   "name": "python",
   "nbconvert_exporter": "python",
   "pygments_lexer": "ipython2",
   "version": "2.7.6"
  }
 },
 "nbformat": 4,
 "nbformat_minor": 5
}
