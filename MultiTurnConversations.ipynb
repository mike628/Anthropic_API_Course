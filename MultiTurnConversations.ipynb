{
 "cells": [
  {
   "metadata": {
    "ExecuteTime": {
     "end_time": "2025-09-12T00:02:24.606849Z",
     "start_time": "2025-09-12T00:02:24.586230Z"
    }
   },
   "cell_type": "code",
   "source": [
    "%pip install anthropic python-dotenv\n",
    "\n"
   ],
   "id": "a00b73ff84a3a3f1",
   "outputs": [
    {
     "data": {
      "text/plain": [
       "True"
      ]
     },
     "execution_count": 2,
     "metadata": {},
     "output_type": "execute_result"
    }
   ],
   "execution_count": 2
  },
  {
   "metadata": {
    "ExecuteTime": {
     "end_time": "2025-09-16T16:03:22.728493Z",
     "start_time": "2025-09-16T16:03:22.541877Z"
    }
   },
   "cell_type": "code",
   "source": [
    "from dotenv import load_dotenv\n",
    "load_dotenv()\n",
    "from anthropic import Anthropic\n",
    "client = Anthropic()\n",
    "model=\"claude-sonnet-4-0\""
   ],
   "id": "288e06eaca874f7e",
   "outputs": [],
   "execution_count": 8
  },
  {
   "metadata": {
    "ExecuteTime": {
     "end_time": "2025-09-16T16:03:24.706525Z",
     "start_time": "2025-09-16T16:03:24.702912Z"
    }
   },
   "cell_type": "code",
   "source": [
    "def add_user_message(messages,text):\n",
    "    user_message = {\"role\":\"user\", \"content\": text}\n",
    "    messages.append(user_message)\n",
    "\n",
    "def add_assistant_message(messages, text):\n",
    "    assistant_message = {\"role\": \"assistant\", \"content\": text}\n",
    "    messages.append(assistant_message)\n",
    "\n",
    "def chat(messages):\n",
    "    message =client.messages.create(\n",
    "    model=model,\n",
    "    max_tokens=1000,\n",
    "    messages=messages\n",
    "    )\n",
    "    return message.content[0].text\n",
    "\n",
    "\n"
   ],
   "id": "6bf5cda0a48ff1",
   "outputs": [],
   "execution_count": 9
  },
  {
   "metadata": {
    "ExecuteTime": {
     "end_time": "2025-09-14T14:52:36.800439Z",
     "start_time": "2025-09-14T14:52:36.793390Z"
    }
   },
   "cell_type": "code",
   "source": [
    "# Make a starting list of Messages\n",
    "messages = []\n",
    "# Add in the initial user question\n",
    "add_user_message(messages,\"What is quantum computing\")\n",
    "messages"
   ],
   "id": "450f777425a0fc7d",
   "outputs": [
    {
     "data": {
      "text/plain": [
       "[{'role': 'user', 'content': 'What is quantum computing'}]"
      ]
     },
     "execution_count": 9,
     "metadata": {},
     "output_type": "execute_result"
    }
   ],
   "execution_count": 9
  },
  {
   "metadata": {
    "ExecuteTime": {
     "end_time": "2025-09-14T14:55:59.196839Z",
     "start_time": "2025-09-14T14:55:59.187562Z"
    }
   },
   "cell_type": "code",
   "source": [
    "# Add assistant message to List\n",
    "add_assistant_message(messages, answer)\n",
    "messages"
   ],
   "id": "adb133aa46f45323",
   "outputs": [
    {
     "data": {
      "text/plain": [
       "[{'role': 'user', 'content': 'What is quantum computing'},\n",
       " {'role': 'assistant',\n",
       "  'content': 'Quantum computing is a revolutionary approach to computation that harnesses the strange properties of quantum mechanics to process information in fundamentally different ways than classical computers.\\n\\n## Key Differences from Classical Computing\\n\\n**Classical computers** use bits that exist in definite states of 0 or 1, processing information sequentially through logic gates.\\n\\n**Quantum computers** use quantum bits (qubits) that can exist in \"superposition\" - essentially being 0 and 1 simultaneously until measured.\\n\\n## Core Quantum Principles\\n\\n- **Superposition**: Qubits can be in multiple states at once, allowing quantum computers to explore many possible solutions simultaneously\\n- **Entanglement**: Qubits can be mysteriously connected, so measuring one instantly affects others regardless of distance\\n- **Interference**: Quantum states can amplify correct answers and cancel out wrong ones\\n\\n## Potential Applications\\n\\n- **Cryptography**: Breaking current encryption and creating quantum-secure communications\\n- **Drug discovery**: Simulating molecular interactions for pharmaceutical research\\n- **Financial modeling**: Optimizing portfolios and risk analysis\\n- **Artificial intelligence**: Potentially accelerating machine learning\\n- **Materials science**: Designing new materials and catalysts\\n\\n## Current Limitations\\n\\n- Extremely fragile - quantum states are easily disrupted by environmental interference\\n- Require near absolute zero temperatures\\n- High error rates compared to classical computers\\n- Limited to specific types of problems\\n- Still mostly experimental technology\\n\\nQuantum computing won\\'t replace classical computers but could solve certain complex problems exponentially faster once the technology matures.'}]"
      ]
     },
     "execution_count": 11,
     "metadata": {},
     "output_type": "execute_result"
    }
   ],
   "execution_count": 11
  },
  {
   "metadata": {
    "ExecuteTime": {
     "end_time": "2025-09-14T14:57:58.193777Z",
     "start_time": "2025-09-14T14:57:54.752632Z"
    }
   },
   "cell_type": "code",
   "source": [
    "add_user_message(messages,\"Write another message\")\n",
    "answer = chat(messages)\n",
    "answer\n"
   ],
   "id": "a74105b673beb30f",
   "outputs": [
    {
     "data": {
      "text/plain": [
       "\"I'd be happy to write another message! Could you give me a topic or theme you're interested in? For example, I could write about:\\n\\n- A scientific concept\\n- A creative story or scenario\\n- Practical advice on something\\n- An explanation of a current event\\n- A philosophical question\\n- Something completely different that interests you\\n\\nWhat would you like me to focus on?\""
      ]
     },
     "execution_count": 12,
     "metadata": {},
     "output_type": "execute_result"
    }
   ],
   "execution_count": 12
  },
  {
   "metadata": {
    "ExecuteTime": {
     "end_time": "2025-09-16T16:06:03.020365Z",
     "start_time": "2025-09-16T16:05:41.516319Z"
    }
   },
   "cell_type": "code",
   "source": [
    "messages=[]\n",
    "while True:\n",
    "    # Get User Input\n",
    "    user_input = input(\"What do you want to know\")\n",
    "    print(\">\", user_input)\n",
    "    add_user_message(messages,user_input)\n",
    "    answer = chat(messages)\n",
    "    add_assistant_message(messages, answer)\n",
    "    print(\"----------------\")\n",
    "    print(answer)\n",
    "    print(\"----------------\")"
   ],
   "id": "5faee950de1cdd38",
   "outputs": [
    {
     "name": "stdout",
     "output_type": "stream",
     "text": [
      "> What is 1+1\n",
      "----------------\n",
      "1 + 1 = 2\n",
      "----------------\n",
      "> Add 4 to that\n",
      "----------------\n",
      "2 + 4 = 6\n",
      "----------------\n"
     ]
    },
    {
     "ename": "KeyboardInterrupt",
     "evalue": "Interrupted by user",
     "output_type": "error",
     "traceback": [
      "\u001B[31m---------------------------------------------------------------------------\u001B[39m",
      "\u001B[31mKeyboardInterrupt\u001B[39m                         Traceback (most recent call last)",
      "\u001B[36mCell\u001B[39m\u001B[36m \u001B[39m\u001B[32mIn[12]\u001B[39m\u001B[32m, line 4\u001B[39m\n\u001B[32m      1\u001B[39m messages=[]\n\u001B[32m      2\u001B[39m \u001B[38;5;28;01mwhile\u001B[39;00m \u001B[38;5;28;01mTrue\u001B[39;00m:\n\u001B[32m      3\u001B[39m     \u001B[38;5;66;03m# Get User Input\u001B[39;00m\n\u001B[32m----> \u001B[39m\u001B[32m4\u001B[39m     user_input = \u001B[38;5;28;43minput\u001B[39;49m\u001B[43m(\u001B[49m\u001B[33;43m\"\u001B[39;49m\u001B[33;43mWhat do you want to know\u001B[39;49m\u001B[33;43m\"\u001B[39;49m\u001B[43m)\u001B[49m\n\u001B[32m      5\u001B[39m     \u001B[38;5;28mprint\u001B[39m(\u001B[33m\"\u001B[39m\u001B[33m>\u001B[39m\u001B[33m\"\u001B[39m, user_input)\n\u001B[32m      6\u001B[39m     add_user_message(messages,user_input)\n",
      "\u001B[36mFile \u001B[39m\u001B[32m~\\PyCharmMiscProject\\.venv\\Lib\\site-packages\\ipykernel\\kernelbase.py:1275\u001B[39m, in \u001B[36mKernel.raw_input\u001B[39m\u001B[34m(self, prompt)\u001B[39m\n\u001B[32m   1273\u001B[39m     msg = \u001B[33m\"\u001B[39m\u001B[33mraw_input was called, but this frontend does not support input requests.\u001B[39m\u001B[33m\"\u001B[39m\n\u001B[32m   1274\u001B[39m     \u001B[38;5;28;01mraise\u001B[39;00m StdinNotImplementedError(msg)\n\u001B[32m-> \u001B[39m\u001B[32m1275\u001B[39m \u001B[38;5;28;01mreturn\u001B[39;00m \u001B[38;5;28;43mself\u001B[39;49m\u001B[43m.\u001B[49m\u001B[43m_input_request\u001B[49m\u001B[43m(\u001B[49m\n\u001B[32m   1276\u001B[39m \u001B[43m    \u001B[49m\u001B[38;5;28;43mstr\u001B[39;49m\u001B[43m(\u001B[49m\u001B[43mprompt\u001B[49m\u001B[43m)\u001B[49m\u001B[43m,\u001B[49m\n\u001B[32m   1277\u001B[39m \u001B[43m    \u001B[49m\u001B[38;5;28;43mself\u001B[39;49m\u001B[43m.\u001B[49m\u001B[43m_parent_ident\u001B[49m\u001B[43m[\u001B[49m\u001B[33;43m\"\u001B[39;49m\u001B[33;43mshell\u001B[39;49m\u001B[33;43m\"\u001B[39;49m\u001B[43m]\u001B[49m\u001B[43m,\u001B[49m\n\u001B[32m   1278\u001B[39m \u001B[43m    \u001B[49m\u001B[38;5;28;43mself\u001B[39;49m\u001B[43m.\u001B[49m\u001B[43mget_parent\u001B[49m\u001B[43m(\u001B[49m\u001B[33;43m\"\u001B[39;49m\u001B[33;43mshell\u001B[39;49m\u001B[33;43m\"\u001B[39;49m\u001B[43m)\u001B[49m\u001B[43m,\u001B[49m\n\u001B[32m   1279\u001B[39m \u001B[43m    \u001B[49m\u001B[43mpassword\u001B[49m\u001B[43m=\u001B[49m\u001B[38;5;28;43;01mFalse\u001B[39;49;00m\u001B[43m,\u001B[49m\n\u001B[32m   1280\u001B[39m \u001B[43m\u001B[49m\u001B[43m)\u001B[49m\n",
      "\u001B[36mFile \u001B[39m\u001B[32m~\\PyCharmMiscProject\\.venv\\Lib\\site-packages\\ipykernel\\kernelbase.py:1320\u001B[39m, in \u001B[36mKernel._input_request\u001B[39m\u001B[34m(self, prompt, ident, parent, password)\u001B[39m\n\u001B[32m   1317\u001B[39m \u001B[38;5;28;01mexcept\u001B[39;00m \u001B[38;5;167;01mKeyboardInterrupt\u001B[39;00m:\n\u001B[32m   1318\u001B[39m     \u001B[38;5;66;03m# re-raise KeyboardInterrupt, to truncate traceback\u001B[39;00m\n\u001B[32m   1319\u001B[39m     msg = \u001B[33m\"\u001B[39m\u001B[33mInterrupted by user\u001B[39m\u001B[33m\"\u001B[39m\n\u001B[32m-> \u001B[39m\u001B[32m1320\u001B[39m     \u001B[38;5;28;01mraise\u001B[39;00m \u001B[38;5;167;01mKeyboardInterrupt\u001B[39;00m(msg) \u001B[38;5;28;01mfrom\u001B[39;00m\u001B[38;5;250m \u001B[39m\u001B[38;5;28;01mNone\u001B[39;00m\n\u001B[32m   1321\u001B[39m \u001B[38;5;28;01mexcept\u001B[39;00m \u001B[38;5;167;01mException\u001B[39;00m:\n\u001B[32m   1322\u001B[39m     \u001B[38;5;28mself\u001B[39m.log.warning(\u001B[33m\"\u001B[39m\u001B[33mInvalid Message:\u001B[39m\u001B[33m\"\u001B[39m, exc_info=\u001B[38;5;28;01mTrue\u001B[39;00m)\n",
      "\u001B[31mKeyboardInterrupt\u001B[39m: Interrupted by user"
     ]
    }
   ],
   "execution_count": 12
  }
 ],
 "metadata": {
  "kernelspec": {
   "name": "python3",
   "language": "python",
   "display_name": "Python 3 (ipykernel)"
  }
 },
 "nbformat": 4,
 "nbformat_minor": 5
}
