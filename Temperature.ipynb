{
 "cells": [
  {
   "cell_type": "code",
   "execution_count": null,
   "id": "initial_id",
   "metadata": {
    "collapsed": true
   },
   "outputs": [],
   "source": [
    ""
   ]
  },
  {
   "metadata": {
    "ExecuteTime": {
     "end_time": "2025-09-16T15:53:44.636992Z",
     "start_time": "2025-09-16T15:53:42.056250Z"
    }
   },
   "cell_type": "code",
   "source": [
    "from dotenv import load_dotenv\n",
    "load_dotenv()\n",
    "from anthropic import Anthropic\n",
    "client = Anthropic()\n",
    "model=\"claude-sonnet-4-0\"\n",
    "def add_user_message(messages, text):\n",
    "    user_message = {\"role\": \"user\", \"content\": text}\n",
    "    messages.append(user_message)\n",
    "\n",
    "\n",
    "def add_assistant_message(messages, text):\n",
    "    assistant_message = {\"role\": \"assistant\", \"content\": text}\n",
    "    messages.append(assistant_message)\n",
    "\n",
    "messages = []\n",
    "def chat(messages,system=None, temperature=1.0):\n",
    "    params={\n",
    "        \"model\":model,\n",
    "       \"max_tokens\":1000,\n",
    "        \"messages\":messages,\n",
    "        \"temperature\":temperature\n",
    "\n",
    "    }\n",
    "    if system:\n",
    "        params['system'] = system\n",
    "    message = client.messages.create(**params)\n",
    "    return message.content[0].text\n",
    "\n",
    "add_user_message(messages,\"Generate a one sentence movie idea.\")\n",
    "answer = chat(messages,temperature=0.5)\n",
    "answer"
   ],
   "id": "43d92e6bcdc72055",
   "outputs": [
    {
     "data": {
      "text/plain": [
       "'A time-traveling janitor discovers that every mess they clean up in the present prevents a catastrophic future disaster, but each act of tidying slowly erases their own existence.'"
      ]
     },
     "execution_count": 3,
     "metadata": {},
     "output_type": "execute_result"
    }
   ],
   "execution_count": 3
  }
 ],
 "metadata": {
  "kernelspec": {
   "display_name": "Python 3",
   "language": "python",
   "name": "python3"
  },
  "language_info": {
   "codemirror_mode": {
    "name": "ipython",
    "version": 2
   },
   "file_extension": ".py",
   "mimetype": "text/x-python",
   "name": "python",
   "nbconvert_exporter": "python",
   "pygments_lexer": "ipython2",
   "version": "2.7.6"
  }
 },
 "nbformat": 4,
 "nbformat_minor": 5
}
